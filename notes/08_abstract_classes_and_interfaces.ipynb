{
 "cells": [
  {
   "cell_type": "markdown",
   "id": "8698014b",
   "metadata": {},
   "source": [
    "# Abstract Classes and Interface-like Behavior in Python\n",
    "\n",
    "Python supports abstract base classes through the `abc` module. These are used to define common interfaces and enforce method implementation in subclasses."
   ]
  },
  {
   "cell_type": "markdown",
   "id": "f93433ca",
   "metadata": {},
   "source": [
    "## 1. What is an Abstract Class?\n",
    "An abstract class is a class that cannot be instantiated and may define one or more abstract methods that must be implemented by subclasses."
   ]
  },
  {
   "cell_type": "code",
   "execution_count": 1,
   "id": "401f28e1",
   "metadata": {},
   "outputs": [],
   "source": [
    "from abc import ABC, abstractmethod\n",
    "\n",
    "class Animal(ABC):\n",
    "    @abstractmethod\n",
    "    def speak(self):\n",
    "        pass\n",
    "\n",
    "# a = Animal()  # ❌ TypeError: Can't instantiate abstract class"
   ]
  },
  {
   "cell_type": "markdown",
   "id": "e0146c6c",
   "metadata": {},
   "source": [
    "## 2. Implementing Abstract Methods\n",
    "Subclasses must implement all abstract methods to be instantiable."
   ]
  },
  {
   "cell_type": "code",
   "execution_count": 2,
   "id": "37058fa4",
   "metadata": {},
   "outputs": [
    {
     "name": "stdout",
     "output_type": "stream",
     "text": [
      "Woof!\n",
      "Meow!\n"
     ]
    }
   ],
   "source": [
    "class Dog(Animal):\n",
    "    def speak(self):\n",
    "        return \"Woof!\"\n",
    "\n",
    "class Cat(Animal):\n",
    "    def speak(self):\n",
    "        return \"Meow!\"\n",
    "\n",
    "d = Dog()\n",
    "print(d.speak())\n",
    "\n",
    "c = Cat()\n",
    "print(c.speak())"
   ]
  },
  {
   "cell_type": "markdown",
   "id": "bea7acd7",
   "metadata": {},
   "source": [
    "## 3. Abstract Class with Multiple Methods"
   ]
  },
  {
   "cell_type": "code",
   "execution_count": 3,
   "id": "035719cd",
   "metadata": {},
   "outputs": [
    {
     "name": "stdout",
     "output_type": "stream",
     "text": [
      "Car started.\n",
      "Car stopped.\n"
     ]
    }
   ],
   "source": [
    "class Vehicle(ABC):\n",
    "    @abstractmethod\n",
    "    def start(self):\n",
    "        pass\n",
    "\n",
    "    @abstractmethod\n",
    "    def stop(self):\n",
    "        pass\n",
    "\n",
    "class Car(Vehicle):\n",
    "    def start(self):\n",
    "        print(\"Car started.\")\n",
    "\n",
    "    def stop(self):\n",
    "        print(\"Car stopped.\")\n",
    "\n",
    "car = Car()\n",
    "car.start()\n",
    "car.stop()"
   ]
  },
  {
   "cell_type": "markdown",
   "id": "e6d52615",
   "metadata": {},
   "source": [
    "## 4. Simulating Interfaces\n",
    "Python does not have interfaces, but abstract base classes with only abstract methods behave similarly."
   ]
  },
  {
   "cell_type": "code",
   "execution_count": 4,
   "id": "eb8ae321",
   "metadata": {},
   "outputs": [
    {
     "name": "stdout",
     "output_type": "stream",
     "text": [
      "Bird is flying.\n"
     ]
    }
   ],
   "source": [
    "class Flyable(ABC):\n",
    "    @abstractmethod\n",
    "    def fly(self):\n",
    "        pass\n",
    "\n",
    "class Bird(Flyable):\n",
    "    def fly(self):\n",
    "        print(\"Bird is flying.\")\n",
    "\n",
    "b = Bird()\n",
    "b.fly()"
   ]
  },
  {
   "cell_type": "markdown",
   "id": "2f5ab884",
   "metadata": {},
   "source": [
    "## 5. Checking Subclass Relationships"
   ]
  },
  {
   "cell_type": "code",
   "execution_count": 5,
   "id": "c28c0b5b",
   "metadata": {},
   "outputs": [
    {
     "name": "stdout",
     "output_type": "stream",
     "text": [
      "True\n",
      "True\n"
     ]
    }
   ],
   "source": [
    "print(issubclass(Dog, Animal))     # True\n",
    "print(isinstance(d, Animal))    # True"
   ]
  }
 ],
 "metadata": {
  "kernelspec": {
   "display_name": "algos",
   "language": "python",
   "name": "python3"
  },
  "language_info": {
   "codemirror_mode": {
    "name": "ipython",
    "version": 3
   },
   "file_extension": ".py",
   "mimetype": "text/x-python",
   "name": "python",
   "nbconvert_exporter": "python",
   "pygments_lexer": "ipython3",
   "version": "3.13.1"
  }
 },
 "nbformat": 4,
 "nbformat_minor": 5
}
