{
 "cells": [
  {
   "cell_type": "markdown",
   "id": "d99937ce",
   "metadata": {},
   "source": [
    "# Additional Data Structures in Python\n",
    "\n",
    "This notebook introduces Python's other built-in data structures: tuples, sets, and dictionaries. These are essential tools for organizing and accessing data efficiently."
   ]
  },
  {
   "cell_type": "markdown",
   "id": "4801e312",
   "metadata": {},
   "source": [
    "## 1. Tuples\n",
    "Tuples are immutable sequences, often used to group related data.\n",
    "\n",
    "- Tuples are hashable only if all their elements are hashable too."
   ]
  },
  {
   "cell_type": "code",
   "execution_count": 1,
   "id": "55c2afae",
   "metadata": {},
   "outputs": [
    {
     "name": "stdout",
     "output_type": "stream",
     "text": [
      "Point: (3, 4)\n",
      "X coordinate: 3\n",
      "Y coordinate: 4\n",
      "Unpacked: 3 4\n"
     ]
    }
   ],
   "source": [
    "point = (3, 4)\n",
    "print(\"Point:\", point)\n",
    "print(\"X coordinate:\", point[0])\n",
    "print(\"Y coordinate:\", point[1])\n",
    "\n",
    "# Tuple unpacking\n",
    "x, y = point\n",
    "print(\"Unpacked:\", x, y)"
   ]
  },
  {
   "cell_type": "code",
   "execution_count": 2,
   "id": "03b43652",
   "metadata": {},
   "outputs": [
    {
     "name": "stdout",
     "output_type": "stream",
     "text": [
      "Tuple item: 10\n",
      "Tuple item: 20\n",
      "Tuple item: 30\n",
      "Generator from tuple: [100, 400, 900]\n"
     ]
    }
   ],
   "source": [
    "# Iterating over a tuple\n",
    "coordinates = (10, 20, 30)\n",
    "for value in coordinates:\n",
    "    print(\"Tuple item:\", value)\n",
    "\n",
    "# Tuple comprehension is not a thing! This creates a generator\n",
    "squared = (x**2 for x in coordinates)\n",
    "print(\"Generator from tuple:\", list(squared))"
   ]
  },
  {
   "cell_type": "markdown",
   "id": "9f4b3cea",
   "metadata": {},
   "source": [
    "## 2. Sets\n",
    "Sets are unordered collections of unique elements.\n",
    "\n",
    "Sets are mutable, meaning their contents can change.\n",
    "\n",
    "- Therefore, they cannot guarantee a consistent hash over time — violating the rules of a hashable object."
   ]
  },
  {
   "cell_type": "code",
   "execution_count": 3,
   "id": "63bbcfbd",
   "metadata": {},
   "outputs": [
    {
     "name": "stdout",
     "output_type": "stream",
     "text": [
      "Set with duplicates removed: {1, 2, 3, 4}\n",
      "Modified set: {1, 3, 4, 5}\n",
      "Union: {1, 2, 3, 4, 5}\n",
      "Intersection: {3}\n",
      "Difference: {1, 2}\n"
     ]
    }
   ],
   "source": [
    "numbers = {1, 2, 3, 3, 4}\n",
    "print(\"Set with duplicates removed:\", numbers)\n",
    "\n",
    "numbers.add(5)\n",
    "numbers.remove(2)\n",
    "print(\"Modified set:\", numbers)\n",
    "\n",
    "# Set operations\n",
    "a = {1, 2, 3}\n",
    "b = {3, 4, 5}\n",
    "print(\"Union:\", a | b)\n",
    "print(\"Intersection:\", a & b)\n",
    "print(\"Difference:\", a - b)"
   ]
  },
  {
   "cell_type": "code",
   "execution_count": 4,
   "id": "0c3751db",
   "metadata": {},
   "outputs": [
    {
     "name": "stdout",
     "output_type": "stream",
     "text": [
      "Set item: 1\n",
      "Set item: 2\n",
      "Set item: 3\n",
      "Set item: 4\n",
      "Even numbers set: {2, 4}\n"
     ]
    }
   ],
   "source": [
    "# Iterating over a set\n",
    "my_set = {1, 2, 3, 4}\n",
    "for item in my_set:\n",
    "    print(\"Set item:\", item)\n",
    "\n",
    "# Comprehension: Keep only even numbers\n",
    "evens = {x for x in my_set if x % 2 == 0}\n",
    "print(\"Even numbers set:\", evens)"
   ]
  },
  {
   "cell_type": "markdown",
   "id": "e40ce238",
   "metadata": {},
   "source": [
    "## 3. Dictionaries\n",
    "Dictionaries store key-value pairs. Keys must be unique and immutable.\n",
    "\n",
    "- **This means an array cannot be a key, but a tuple could be (granted its elements are immutable as well!)**\n",
    "\n",
    "- If you are familiar with hashing this is just a technical way to say that the keys must be hashable."
   ]
  },
  {
   "cell_type": "code",
   "execution_count": 5,
   "id": "a51f894c",
   "metadata": {},
   "outputs": [
    {
     "name": "stdout",
     "output_type": "stream",
     "text": [
      "Name: Alice\n",
      "Updated dictionary: {'name': 'Alice', 'age': 31, 'city': 'New York', 'email': 'alice@example.com'}\n",
      "name: Alice\n",
      "age: 31\n",
      "city: New York\n",
      "email: alice@example.com\n"
     ]
    }
   ],
   "source": [
    "person = {\n",
    "    \"name\": \"Alice\",\n",
    "    \"age\": 30,\n",
    "    \"city\": \"New York\"\n",
    "}\n",
    "\n",
    "print(\"Name:\", person[\"name\"])\n",
    "person[\"age\"] = 31  # Modify value\n",
    "person[\"email\"] = \"alice@example.com\"  # Add new key\n",
    "print(\"Updated dictionary:\", person)\n",
    "\n",
    "# Looping through a dictionary\n",
    "for key, value in person.items():\n",
    "    print(f\"{key}: {value}\")"
   ]
  },
  {
   "cell_type": "code",
   "execution_count": 6,
   "id": "20f79a36",
   "metadata": {},
   "outputs": [
    {
     "name": "stdout",
     "output_type": "stream",
     "text": [
      "Key: name\n",
      "Key: age\n",
      "Key: grade\n",
      "name: Alice\n",
      "age: 22\n",
      "grade: A\n",
      "Inverted dict: {'Alice': 'name', 22: 'age', 'A': 'grade'}\n"
     ]
    }
   ],
   "source": [
    "# Iterating over a dictionary is a bit weird\n",
    "\n",
    "student = {\"name\": \"Alice\", \"age\": 22, \"grade\": \"A\"}\n",
    "\n",
    "# Iterating over keys\n",
    "for key in student:\n",
    "    print(\"Key:\", key)\n",
    "\n",
    "# Iterating over key-value pairs\n",
    "for key, value in student.items():\n",
    "    print(f\"{key}: {value}\")\n",
    "\n",
    "# Dictionary comprehension: Swap keys and values\n",
    "inverted = {v: k for k, v in student.items()}\n",
    "print(\"Inverted dict:\", inverted)"
   ]
  },
  {
   "cell_type": "code",
   "execution_count": 7,
   "id": "bd3cd6f6",
   "metadata": {},
   "outputs": [
    {
     "name": "stdout",
     "output_type": "stream",
     "text": [
      "New York\n"
     ]
    }
   ],
   "source": [
    "# Using an immutable tuple with immutable elements as a key.\n",
    "\n",
    "location = {(40.7128, -74.0060): \"New York\"}\n",
    "print(location[(40.7128, -74.0060)])  # Outputs: New York"
   ]
  },
  {
   "cell_type": "markdown",
   "id": "843710fb",
   "metadata": {},
   "source": [
    "## 4. Dictionary Comprehensions"
   ]
  },
  {
   "cell_type": "code",
   "execution_count": 8,
   "id": "8c934a93",
   "metadata": {},
   "outputs": [
    {
     "name": "stdout",
     "output_type": "stream",
     "text": [
      "Squares dictionary: {0: 0, 1: 1, 2: 4, 3: 9, 4: 16, 5: 25}\n"
     ]
    }
   ],
   "source": [
    "squares = {x: x ** 2 for x in range(6)}\n",
    "print(\"Squares dictionary:\", squares)"
   ]
  },
  {
   "cell_type": "markdown",
   "id": "429773a3",
   "metadata": {},
   "source": [
    "## 5. Bonus: Frozen Sets\n",
    "\n",
    "Frozensets are just like sets, but they are immutable — meaning they can't be changed after creation. This makes them hashable and suitable for use as dictionary keys or as elements of other sets."
   ]
  },
  {
   "cell_type": "code",
   "execution_count": 9,
   "id": "645df4a0",
   "metadata": {},
   "outputs": [
    {
     "name": "stdout",
     "output_type": "stream",
     "text": [
      "Frozenset contents: frozenset({1, 2, 3})\n",
      "Union: frozenset({1, 2, 3, 4, 5})\n",
      "Intersection: frozenset({3})\n",
      "Dictionary lookup: immutable set\n"
     ]
    }
   ],
   "source": [
    "# Create a frozenset\n",
    "fset = frozenset([1, 2, 3, 3])\n",
    "print(\"Frozenset contents:\", fset)\n",
    "\n",
    "# Frozensets support set operations just like regular sets\n",
    "other = frozenset([3, 4, 5])\n",
    "print(\"Union:\", fset | other)\n",
    "print(\"Intersection:\", fset & other)\n",
    "\n",
    "# Use as dictionary key\n",
    "my_dict = {fset: \"immutable set\"}\n",
    "print(\"Dictionary lookup:\", my_dict[frozenset([1, 2, 3])])"
   ]
  }
 ],
 "metadata": {
  "kernelspec": {
   "display_name": "algos",
   "language": "python",
   "name": "python3"
  },
  "language_info": {
   "codemirror_mode": {
    "name": "ipython",
    "version": 3
   },
   "file_extension": ".py",
   "mimetype": "text/x-python",
   "name": "python",
   "nbconvert_exporter": "python",
   "pygments_lexer": "ipython3",
   "version": "3.13.1"
  }
 },
 "nbformat": 4,
 "nbformat_minor": 5
}
