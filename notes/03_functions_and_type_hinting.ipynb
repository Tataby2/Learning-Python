{
 "cells": [
  {
   "cell_type": "markdown",
   "id": "73328ac9",
   "metadata": {},
   "source": [
    "# Python Functions & Type Hinting\n",
    "\n",
    "This notebook covers the basics of defining and using functions in Python, including the use of type hints and functions as first-class objects."
   ]
  },
  {
   "cell_type": "markdown",
   "id": "7d601d30",
   "metadata": {},
   "source": [
    "## 1. Basic Function Definition\n",
    "A function is defined using the `def` keyword."
   ]
  },
  {
   "cell_type": "code",
   "execution_count": 1,
   "id": "fcf84d9e",
   "metadata": {},
   "outputs": [
    {
     "name": "stdout",
     "output_type": "stream",
     "text": [
      "Hello, Alice!\n"
     ]
    }
   ],
   "source": [
    "def greet(name):\n",
    "    print(f\"Hello, {name}!\")\n",
    "\n",
    "greet(\"Alice\")"
   ]
  },
  {
   "cell_type": "markdown",
   "id": "12d54272",
   "metadata": {},
   "source": [
    "## 2. Functions with Return Values\n",
    "Use `return` to send a value back to the caller."
   ]
  },
  {
   "cell_type": "code",
   "execution_count": 2,
   "id": "d1addfc5",
   "metadata": {},
   "outputs": [
    {
     "name": "stdout",
     "output_type": "stream",
     "text": [
      "Result: 8\n"
     ]
    }
   ],
   "source": [
    "def add(a, b):\n",
    "    return a + b\n",
    "\n",
    "result = add(3, 5)\n",
    "print(\"Result:\", result)"
   ]
  },
  {
   "cell_type": "markdown",
   "id": "d29c3382",
   "metadata": {},
   "source": [
    "## 3. Introducing Type Hinting\n",
    "Type hints help indicate the expected types of arguments and return values."
   ]
  },
  {
   "cell_type": "code",
   "execution_count": 3,
   "id": "c97c3ef5",
   "metadata": {},
   "outputs": [
    {
     "name": "stdout",
     "output_type": "stream",
     "text": [
      "Product: 24\n"
     ]
    }
   ],
   "source": [
    "def multiply(x: int, y: int) -> int:\n",
    "    return x * y\n",
    "\n",
    "product = multiply(4, 6)\n",
    "print(\"Product:\", product)"
   ]
  },
  {
   "cell_type": "markdown",
   "id": "7b3bd584",
   "metadata": {},
   "source": [
    "## 4. Default Parameters and Keyword Arguments\n",
    "You can assign default values to function parameters."
   ]
  },
  {
   "cell_type": "code",
   "execution_count": 4,
   "id": "8afae3b6",
   "metadata": {},
   "outputs": [
    {
     "name": "stdout",
     "output_type": "stream",
     "text": [
      "I have a dog named Buddy.\n",
      "I have a cat named Whiskers.\n"
     ]
    }
   ],
   "source": [
    "def describe_pet(name: str, animal_type: str = \"dog\") -> None:\n",
    "    print(f\"I have a {animal_type} named {name}.\")\n",
    "\n",
    "describe_pet(\"Buddy\")\n",
    "describe_pet(\"Whiskers\", \"cat\")"
   ]
  },
  {
   "cell_type": "markdown",
   "id": "069eb829",
   "metadata": {},
   "source": [
    "## 5. Functions as Parameters\n",
    "Functions can be passed as arguments to other functions."
   ]
  },
  {
   "cell_type": "code",
   "execution_count": 5,
   "id": "b1d3478e",
   "metadata": {},
   "outputs": [
    {
     "name": "stdout",
     "output_type": "stream",
     "text": [
      "GOOD MORNING!\n",
      "good night!\n"
     ]
    }
   ],
   "source": [
    "def shout(text: str) -> str:\n",
    "    return text.upper()\n",
    "\n",
    "def whisper(text: str) -> str:\n",
    "    return text.lower()\n",
    "\n",
    "def greet_with_style(func, message: str) -> None:\n",
    "    styled_message = func(message)\n",
    "    print(styled_message)\n",
    "\n",
    "greet_with_style(shout, \"Good morning!\")\n",
    "greet_with_style(whisper, \"Good night!\")"
   ]
  },
  {
   "cell_type": "markdown",
   "id": "fb86d2fb",
   "metadata": {},
   "source": [
    "## 6. Nested Functions\n",
    "Functions can be defined inside other functions."
   ]
  },
  {
   "cell_type": "code",
   "execution_count": 6,
   "id": "bf0851e0",
   "metadata": {},
   "outputs": [
    {
     "name": "stdout",
     "output_type": "stream",
     "text": [
      "Hello from inside, Eve!\n"
     ]
    }
   ],
   "source": [
    "def outer_function(name: str) -> None:\n",
    "    def inner_function():\n",
    "        print(f\"Hello from inside, {name}!\")\n",
    "    inner_function()\n",
    "\n",
    "outer_function(\"Eve\")"
   ]
  },
  {
   "cell_type": "markdown",
   "id": "d571ee4f",
   "metadata": {},
   "source": [
    "## 7. Lambda (Anonymous Functions)\n",
    "Lambdas are small, anonymous functions for short operations."
   ]
  },
  {
   "cell_type": "code",
   "execution_count": 7,
   "id": "1ecb6dbb",
   "metadata": {},
   "outputs": [
    {
     "name": "stdout",
     "output_type": "stream",
     "text": [
      "Square of 5 is 25\n"
     ]
    }
   ],
   "source": [
    "square = lambda x: x ** 2\n",
    "print(\"Square of 5 is\", square(5))"
   ]
  }
 ],
 "metadata": {
  "kernelspec": {
   "display_name": "algos",
   "language": "python",
   "name": "python3"
  },
  "language_info": {
   "codemirror_mode": {
    "name": "ipython",
    "version": 3
   },
   "file_extension": ".py",
   "mimetype": "text/x-python",
   "name": "python",
   "nbconvert_exporter": "python",
   "pygments_lexer": "ipython3",
   "version": "3.13.1"
  }
 },
 "nbformat": 4,
 "nbformat_minor": 5
}
