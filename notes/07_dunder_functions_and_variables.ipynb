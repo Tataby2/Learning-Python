{
 "cells": [
  {
   "cell_type": "markdown",
   "id": "05ec025b",
   "metadata": {},
   "source": [
    "# Special Functions and Variables in Python\n",
    "\n",
    "In Python, special functions and variables that start and end with double underscores (`__`) are often referred to as **magic methods** or **dunder methods** (short for *double underscore*).\n",
    "\n",
    "These play important roles in object behavior, class lifecycle, operator overloading, and introspection."
   ]
  },
  {
   "cell_type": "markdown",
   "id": "041ebe48",
   "metadata": {},
   "source": [
    "## 1. Common Dunder Methods in Classes\n",
    "These methods are automatically called in response to built-in Python operations."
   ]
  },
  {
   "cell_type": "code",
   "execution_count": 4,
   "id": "4a0b9811",
   "metadata": {},
   "outputs": [
    {
     "name": "stdout",
     "output_type": "stream",
     "text": [
      "v1: Vector(2, 3)\n",
      "v2: Vector(4, 5)\n",
      "v1 + v2 = Vector(6, 8)\n"
     ]
    }
   ],
   "source": [
    "class Vector:\n",
    "    def __init__(self, x, y):\n",
    "        self.x = x\n",
    "        self.y = y\n",
    "\n",
    "    # Similar to the toString() method in Java\n",
    "    def __repr__(self):\n",
    "        return f\"Vector({self.x}, {self.y})\"\n",
    "\n",
    "    def __add__(self, other):\n",
    "        return Vector(self.x + other.x, self.y + other.y)\n",
    "\n",
    "v1 = Vector(2, 3)\n",
    "v2 = Vector(4, 5)\n",
    "print(\"v1:\", v1)\n",
    "print(\"v2:\", v2)\n",
    "print(\"v1 + v2 =\", v1 + v2)"
   ]
  },
  {
   "cell_type": "markdown",
   "id": "8dd08872",
   "metadata": {},
   "source": [
    "## 2. Special Dunder Variables\n",
    "Python also uses dunder variables for internal control and module behaviors."
   ]
  },
  {
   "cell_type": "code",
   "execution_count": 5,
   "id": "e275b105",
   "metadata": {},
   "outputs": [
    {
     "name": "stdout",
     "output_type": "stream",
     "text": [
      "__name__ variable value: __main__\n",
      "This code is running as a script (not being imported).\n"
     ]
    }
   ],
   "source": [
    "print(\"__name__ variable value:\", __name__)\n",
    "\n",
    "if __name__ == \"__main__\":\n",
    "    print(\"This code is running as a script (not being imported).\")"
   ]
  },
  {
   "cell_type": "markdown",
   "id": "807d47ef",
   "metadata": {},
   "source": [
    "## 3. Useful Built-in Dunder Methods (Operator Overloading)\n",
    "These methods let you redefine operators for your objects."
   ]
  },
  {
   "cell_type": "code",
   "execution_count": 6,
   "id": "c24927d3",
   "metadata": {},
   "outputs": [
    {
     "name": "stdout",
     "output_type": "stream",
     "text": [
      "n1 == n2? False\n",
      "n1 == n3? True\n",
      "n1 < n2? True\n",
      "n1 * n2 = 12\n"
     ]
    }
   ],
   "source": [
    "class Number:\n",
    "    def __init__(self, value):\n",
    "        self.value = value\n",
    "\n",
    "    def __eq__(self, other):\n",
    "        return self.value == other.value\n",
    "\n",
    "    def __lt__(self, other):\n",
    "        return self.value < other.value\n",
    "\n",
    "    def __mul__(self, other):\n",
    "        return Number(self.value * other.value)\n",
    "\n",
    "n1 = Number(3)\n",
    "n2 = Number(4)\n",
    "n3 = Number(3)\n",
    "\n",
    "print(\"n1 == n2?\", n1 == n2)\n",
    "print(\"n1 == n3?\", n1 == n3)\n",
    "print(\"n1 < n2?\", n1 < n2)\n",
    "print(\"n1 * n2 =\", (n1 * n2).value)"
   ]
  },
  {
   "cell_type": "markdown",
   "id": "342e4ee4",
   "metadata": {},
   "source": [
    "## 4. Lifecycle Dunder Methods\n",
    "These control object creation, deletion, and conversion."
   ]
  },
  {
   "cell_type": "code",
   "execution_count": 7,
   "id": "9d693d6b",
   "metadata": {},
   "outputs": [
    {
     "name": "stdout",
     "output_type": "stream",
     "text": [
      "__init__ called\n",
      "__del__ called (object being destroyed)\n"
     ]
    }
   ],
   "source": [
    "class Demo:\n",
    "    def __init__(self):\n",
    "        print(\"__init__ called\")\n",
    "\n",
    "    def __del__(self):\n",
    "        print(\"__del__ called (object being destroyed)\")\n",
    "\n",
    "d = Demo()\n",
    "del d  # Might not immediately trigger __del__ due to garbage collection"
   ]
  },
  {
   "cell_type": "markdown",
   "id": "1f3481c7",
   "metadata": {},
   "source": [
    "## 5. Introspection Dunder Functions\n",
    "You can explore objects with built-in introspection methods."
   ]
  },
  {
   "cell_type": "code",
   "execution_count": 8,
   "id": "314303d4",
   "metadata": {},
   "outputs": [
    {
     "name": "stdout",
     "output_type": "stream",
     "text": [
      "Type of x: <class 'list'>\n",
      "Attributes of x: ['__add__', '__class__', '__class_getitem__', '__contains__', '__delattr__', '__delitem__', '__dir__', '__doc__', '__eq__', '__format__', '__ge__', '__getattribute__', '__getitem__', '__getstate__', '__gt__', '__hash__', '__iadd__', '__imul__', '__init__', '__init_subclass__', '__iter__', '__le__', '__len__', '__lt__', '__mul__', '__ne__', '__new__', '__reduce__', '__reduce_ex__', '__repr__', '__reversed__', '__rmul__', '__setattr__', '__setitem__', '__sizeof__', '__str__', '__subclasshook__', 'append', 'clear', 'copy', 'count', 'extend', 'index', 'insert', 'pop', 'remove', 'reverse', 'sort']\n",
      "Help on class list in module builtins:\n",
      "\n",
      "class list(object)\n",
      " |  list(iterable=(), /)\n",
      " |\n",
      " |  Built-in mutable sequence.\n",
      " |\n",
      " |  If no argument is given, the constructor creates a new empty list.\n",
      " |  The argument must be an iterable if specified.\n",
      " |\n",
      " |  Methods defined here:\n",
      " |\n",
      " |  __add__(self, value, /)\n",
      " |      Return self+value.\n",
      " |\n",
      " |  __contains__(self, key, /)\n",
      " |      Return bool(key in self).\n",
      " |\n",
      " |  __delitem__(self, key, /)\n",
      " |      Delete self[key].\n",
      " |\n",
      " |  __eq__(self, value, /)\n",
      " |      Return self==value.\n",
      " |\n",
      " |  __ge__(self, value, /)\n",
      " |      Return self>=value.\n",
      " |\n",
      " |  __getattribute__(self, name, /)\n",
      " |      Return getattr(self, name).\n",
      " |\n",
      " |  __getitem__(self, index, /)\n",
      " |      Return self[index].\n",
      " |\n",
      " |  __gt__(self, value, /)\n",
      " |      Return self>value.\n",
      " |\n",
      " |  __iadd__(self, value, /)\n",
      " |      Implement self+=value.\n",
      " |\n",
      " |  __imul__(self, value, /)\n",
      " |      Implement self*=value.\n",
      " |\n",
      " |  __init__(self, /, *args, **kwargs)\n",
      " |      Initialize self.  See help(type(self)) for accurate signature.\n",
      " |\n",
      " |  __iter__(self, /)\n",
      " |      Implement iter(self).\n",
      " |\n",
      " |  __le__(self, value, /)\n",
      " |      Return self<=value.\n",
      " |\n",
      " |  __len__(self, /)\n",
      " |      Return len(self).\n",
      " |\n",
      " |  __lt__(self, value, /)\n",
      " |      Return self<value.\n",
      " |\n",
      " |  __mul__(self, value, /)\n",
      " |      Return self*value.\n",
      " |\n",
      " |  __ne__(self, value, /)\n",
      " |      Return self!=value.\n",
      " |\n",
      " |  __repr__(self, /)\n",
      " |      Return repr(self).\n",
      " |\n",
      " |  __reversed__(self, /)\n",
      " |      Return a reverse iterator over the list.\n",
      " |\n",
      " |  __rmul__(self, value, /)\n",
      " |      Return value*self.\n",
      " |\n",
      " |  __setitem__(self, key, value, /)\n",
      " |      Set self[key] to value.\n",
      " |\n",
      " |  __sizeof__(self, /)\n",
      " |      Return the size of the list in memory, in bytes.\n",
      " |\n",
      " |  append(self, object, /)\n",
      " |      Append object to the end of the list.\n",
      " |\n",
      " |  clear(self, /)\n",
      " |      Remove all items from list.\n",
      " |\n",
      " |  copy(self, /)\n",
      " |      Return a shallow copy of the list.\n",
      " |\n",
      " |  count(self, value, /)\n",
      " |      Return number of occurrences of value.\n",
      " |\n",
      " |  extend(self, iterable, /)\n",
      " |      Extend list by appending elements from the iterable.\n",
      " |\n",
      " |  index(self, value, start=0, stop=9223372036854775807, /)\n",
      " |      Return first index of value.\n",
      " |\n",
      " |      Raises ValueError if the value is not present.\n",
      " |\n",
      " |  insert(self, index, object, /)\n",
      " |      Insert object before index.\n",
      " |\n",
      " |  pop(self, index=-1, /)\n",
      " |      Remove and return item at index (default last).\n",
      " |\n",
      " |      Raises IndexError if list is empty or index is out of range.\n",
      " |\n",
      " |  remove(self, value, /)\n",
      " |      Remove first occurrence of value.\n",
      " |\n",
      " |      Raises ValueError if the value is not present.\n",
      " |\n",
      " |  reverse(self, /)\n",
      " |      Reverse *IN PLACE*.\n",
      " |\n",
      " |  sort(self, /, *, key=None, reverse=False)\n",
      " |      Sort the list in ascending order and return None.\n",
      " |\n",
      " |      The sort is in-place (i.e. the list itself is modified) and stable (i.e. the\n",
      " |      order of two equal elements is maintained).\n",
      " |\n",
      " |      If a key function is given, apply it once to each list item and sort them,\n",
      " |      ascending or descending, according to their function values.\n",
      " |\n",
      " |      The reverse flag can be set to sort in descending order.\n",
      " |\n",
      " |  ----------------------------------------------------------------------\n",
      " |  Class methods defined here:\n",
      " |\n",
      " |  __class_getitem__(object, /)\n",
      " |      See PEP 585\n",
      " |\n",
      " |  ----------------------------------------------------------------------\n",
      " |  Static methods defined here:\n",
      " |\n",
      " |  __new__(*args, **kwargs)\n",
      " |      Create and return a new object.  See help(type) for accurate signature.\n",
      " |\n",
      " |  ----------------------------------------------------------------------\n",
      " |  Data and other attributes defined here:\n",
      " |\n",
      " |  __hash__ = None\n",
      "\n",
      "Documentation for list: None\n"
     ]
    }
   ],
   "source": [
    "x = [1, 2, 3]\n",
    "print(\"Type of x:\", type(x))\n",
    "print(\"Attributes of x:\", dir(x))\n",
    "print(\"Documentation for list:\", help(list))  # Run this in a terminal or script"
   ]
  }
 ],
 "metadata": {
  "kernelspec": {
   "display_name": "algos",
   "language": "python",
   "name": "python3"
  },
  "language_info": {
   "codemirror_mode": {
    "name": "ipython",
    "version": 3
   },
   "file_extension": ".py",
   "mimetype": "text/x-python",
   "name": "python",
   "nbconvert_exporter": "python",
   "pygments_lexer": "ipython3",
   "version": "3.13.1"
  }
 },
 "nbformat": 4,
 "nbformat_minor": 5
}
