{
 "cells": [
  {
   "cell_type": "markdown",
   "id": "44056936",
   "metadata": {},
   "source": [
    "# Basic Python Control Structures\n",
    "\n",
    "This notebook introduces essential Python control structures including conditionals, loops, exception handling, and basic input/output operations."
   ]
  },
  {
   "cell_type": "markdown",
   "id": "cd76f46f",
   "metadata": {},
   "source": [
    "## 1. Conditional Statements\n",
    "Use `if`, `elif`, and `else` to make decisions in your code."
   ]
  },
  {
   "cell_type": "code",
   "execution_count": 1,
   "id": "69cd6352",
   "metadata": {},
   "outputs": [
    {
     "name": "stdout",
     "output_type": "stream",
     "text": [
      "x is positive\n"
     ]
    }
   ],
   "source": [
    "x = 10\n",
    "if x > 0:\n",
    "    print(\"x is positive\")\n",
    "elif x == 0:\n",
    "    print(\"x is zero\")\n",
    "else:\n",
    "    print(\"x is negative\")"
   ]
  },
  {
   "cell_type": "markdown",
   "id": "03cc1530",
   "metadata": {},
   "source": [
    "## 2. For Loop\n",
    "A `for` loop is used to iterate over a sequence (like a list or a range)."
   ]
  },
  {
   "cell_type": "code",
   "execution_count": 2,
   "id": "2a0457f4",
   "metadata": {},
   "outputs": [
    {
     "name": "stdout",
     "output_type": "stream",
     "text": [
      "For loop iteration 0\n",
      "For loop iteration 1\n",
      "For loop iteration 2\n",
      "For loop iteration 3\n",
      "For loop iteration 4\n"
     ]
    }
   ],
   "source": [
    "for i in range(5):\n",
    "    print(f\"For loop iteration {i}\")"
   ]
  },
  {
   "cell_type": "markdown",
   "id": "e1c2ffef",
   "metadata": {},
   "source": [
    "## 3. While Loop\n",
    "A `while` loop runs as long as a condition is `True`."
   ]
  },
  {
   "cell_type": "code",
   "execution_count": 3,
   "id": "65c94c1f",
   "metadata": {},
   "outputs": [
    {
     "name": "stdout",
     "output_type": "stream",
     "text": [
      "While loop iteration 0\n",
      "While loop iteration 1\n",
      "While loop iteration 2\n",
      "While loop iteration 3\n",
      "While loop iteration 4\n"
     ]
    }
   ],
   "source": [
    "count = 0\n",
    "while count < 5:\n",
    "    print(f\"While loop iteration {count}\")\n",
    "    count += 1"
   ]
  },
  {
   "cell_type": "markdown",
   "id": "190b5186",
   "metadata": {},
   "source": [
    "## 4. Break and Continue\n",
    "Use `break` to exit a loop and `continue` to skip the rest of the loop iteration."
   ]
  },
  {
   "cell_type": "code",
   "execution_count": 4,
   "id": "372fd940",
   "metadata": {},
   "outputs": [
    {
     "name": "stdout",
     "output_type": "stream",
     "text": [
      "Loop with break/continue: 0\n",
      "Loop with break/continue: 1\n",
      "Loop with break/continue: 2\n",
      "Loop with break/continue: 4\n",
      "Loop with break/continue: 5\n",
      "Loop with break/continue: 6\n"
     ]
    }
   ],
   "source": [
    "for i in range(10):\n",
    "    if i == 3:\n",
    "        continue  # Skip when i is 3\n",
    "    if i == 7:\n",
    "        break  # Stop loop when i is 7\n",
    "    print(f\"Loop with break/continue: {i}\")"
   ]
  },
  {
   "cell_type": "markdown",
   "id": "05edeba2",
   "metadata": {},
   "source": [
    "## 5. Exception Handling\n",
    "Use `try`, `except`, and `finally` to handle errors gracefully."
   ]
  },
  {
   "cell_type": "code",
   "execution_count": 5,
   "id": "197b76b0",
   "metadata": {},
   "outputs": [
    {
     "name": "stdout",
     "output_type": "stream",
     "text": [
      "You can't divide by zero!\n",
      "This block always executes\n"
     ]
    }
   ],
   "source": [
    "try:\n",
    "    result = 10 / 0\n",
    "except ZeroDivisionError:\n",
    "    print(\"You can't divide by zero!\")\n",
    "finally:\n",
    "    print(\"This block always executes\")"
   ]
  },
  {
   "cell_type": "markdown",
   "id": "aff4ab3f",
   "metadata": {},
   "source": [
    "## 6. User Input\n",
    "`input()` reads a line from the user."
   ]
  },
  {
   "cell_type": "code",
   "execution_count": 6,
   "id": "828dfe18",
   "metadata": {},
   "outputs": [
    {
     "name": "stdout",
     "output_type": "stream",
     "text": [
      "Hello, kelpo!\n"
     ]
    }
   ],
   "source": [
    "name = input(\"Enter your name: \")\n",
    "print(f\"Hello, {name}!\")"
   ]
  },
  {
   "cell_type": "markdown",
   "id": "f63c8223",
   "metadata": {},
   "source": [
    "## 7. File I/O\n",
    "Use `open()` to write to and read from files."
   ]
  },
  {
   "cell_type": "code",
   "execution_count": 7,
   "id": "723aad64",
   "metadata": {},
   "outputs": [
    {
     "name": "stdout",
     "output_type": "stream",
     "text": [
      "File search location: c:\\Users\\kelpf\\Desktop\\PythonTutorial\\Learning-Python\\notes\n",
      "File content: Hello, file!\n"
     ]
    }
   ],
   "source": [
    "import os\n",
    "print(\"File search location:\", os.getcwd())\n",
    "\n",
    "\n",
    "with open(\"example.txt\", \"w\") as f:\n",
    "    f.write(\"Hello, file!\")\n",
    "\n",
    "with open(\"example.txt\", \"r\") as f:\n",
    "    content = f.read()\n",
    "    print(\"File content:\", content)"
   ]
  }
 ],
 "metadata": {
  "kernelspec": {
   "display_name": "algos",
   "language": "python",
   "name": "python3"
  },
  "language_info": {
   "codemirror_mode": {
    "name": "ipython",
    "version": 3
   },
   "file_extension": ".py",
   "mimetype": "text/x-python",
   "name": "python",
   "nbconvert_exporter": "python",
   "pygments_lexer": "ipython3",
   "version": "3.13.1"
  }
 },
 "nbformat": 4,
 "nbformat_minor": 5
}
