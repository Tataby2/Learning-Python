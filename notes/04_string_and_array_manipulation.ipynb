{
 "cells": [
  {
   "cell_type": "markdown",
   "id": "4ce20ca6",
   "metadata": {},
   "source": [
    "# String and Array (List) Manipulation in Python\n",
    "\n",
    "This notebook demonstrates common operations on strings and lists in Python, including indexing, slicing, and built-in functions."
   ]
  },
  {
   "cell_type": "markdown",
   "id": "582d6bca",
   "metadata": {},
   "source": [
    "## 1. String Basics\n",
    "Strings in Python are sequences of characters and support indexing and slicing."
   ]
  },
  {
   "cell_type": "code",
   "execution_count": 1,
   "id": "4a519a2e",
   "metadata": {},
   "outputs": [
    {
     "name": "stdout",
     "output_type": "stream",
     "text": [
      "Original text: Hello, World!\n",
      "First character: H\n",
      "Last character: !\n",
      "Substring (0 to 5): Hello\n",
      "Reversed string: !dlroW ,olleH\n"
     ]
    }
   ],
   "source": [
    "text = \"Hello, World!\"\n",
    "print(\"Original text:\", text)\n",
    "print(\"First character:\", text[0])\n",
    "print(\"Last character:\", text[-1])\n",
    "print(\"Substring (0 to 5):\", text[0:5])\n",
    "print(\"Reversed string:\", text[::-1])"
   ]
  },
  {
   "cell_type": "markdown",
   "id": "c16f3b32",
   "metadata": {},
   "source": [
    "## 2. Common String Methods"
   ]
  },
  {
   "cell_type": "code",
   "execution_count": 2,
   "id": "e26f70d3",
   "metadata": {},
   "outputs": [
    {
     "name": "stdout",
     "output_type": "stream",
     "text": [
      "Lowercase:    python is fun!   \n",
      "Uppercase:    PYTHON IS FUN!   \n",
      "Stripped: python is Fun!\n",
      "Title Case:    Python Is Fun!   \n",
      "Replace:    python is awesome!   \n"
     ]
    }
   ],
   "source": [
    "message = \"   python is Fun!   \"\n",
    "print(\"Lowercase:\", message.lower())\n",
    "print(\"Uppercase:\", message.upper())\n",
    "print(\"Stripped:\", message.strip())\n",
    "print(\"Title Case:\", message.title())\n",
    "print(\"Replace:\", message.replace(\"Fun\", \"awesome\"))"
   ]
  },
  {
   "cell_type": "markdown",
   "id": "6611a6f4",
   "metadata": {},
   "source": [
    "## 3. String Splitting and Joining"
   ]
  },
  {
   "cell_type": "code",
   "execution_count": 3,
   "id": "e7ad1961",
   "metadata": {},
   "outputs": [
    {
     "name": "stdout",
     "output_type": "stream",
     "text": [
      "Split list: ['apple', 'banana', 'cherry']\n",
      "Joined string: apple | banana | cherry\n"
     ]
    }
   ],
   "source": [
    "data = \"apple,banana,cherry\"\n",
    "fruits = data.split(\",\")\n",
    "print(\"Split list:\", fruits)\n",
    "\n",
    "joined = \" | \".join(fruits)\n",
    "print(\"Joined string:\", joined)"
   ]
  },
  {
   "cell_type": "markdown",
   "id": "1400030f",
   "metadata": {},
   "source": [
    "## 4. List Basics\n",
    "Lists can hold items of any type and support indexing and slicing."
   ]
  },
  {
   "cell_type": "code",
   "execution_count": 4,
   "id": "5d07eea0",
   "metadata": {},
   "outputs": [
    {
     "name": "stdout",
     "output_type": "stream",
     "text": [
      "Original list: [10, 20, 30, 40, 50]\n",
      "First item: 10\n",
      "Last item: 50\n",
      "Middle slice: [20, 30, 40]\n"
     ]
    }
   ],
   "source": [
    "items = [10, 20, 30, 40, 50]\n",
    "print(\"Original list:\", items)\n",
    "print(\"First item:\", items[0])\n",
    "print(\"Last item:\", items[-1])\n",
    "print(\"Middle slice:\", items[1:4])"
   ]
  },
  {
   "cell_type": "markdown",
   "id": "5b710ec8",
   "metadata": {},
   "source": [
    "## 5. Modifying Lists"
   ]
  },
  {
   "cell_type": "code",
   "execution_count": 5,
   "id": "45821426",
   "metadata": {},
   "outputs": [
    {
     "name": "stdout",
     "output_type": "stream",
     "text": [
      "After additions: [0, 1, 2, 3, 4, 5, 6]\n",
      "After removal and pop: [0, 1, 2, 4, 5]\n",
      "Popped item: 6\n"
     ]
    }
   ],
   "source": [
    "numbers = [1, 2, 3]\n",
    "numbers.append(4)\n",
    "numbers.extend([5, 6])\n",
    "numbers.insert(0, 0)\n",
    "print(\"After additions:\", numbers)\n",
    "\n",
    "numbers.remove(3)\n",
    "popped = numbers.pop()\n",
    "print(\"After removal and pop:\", numbers)\n",
    "print(\"Popped item:\", popped)"
   ]
  },
  {
   "cell_type": "markdown",
   "id": "a51c8f70",
   "metadata": {},
   "source": [
    "## 6. Sorting and Reversing Lists"
   ]
  },
  {
   "cell_type": "code",
   "execution_count": 6,
   "id": "d7976a28",
   "metadata": {},
   "outputs": [
    {
     "name": "stdout",
     "output_type": "stream",
     "text": [
      "Sorted: ['Alice', 'Bob', 'Charlie']\n",
      "Reversed: ['Charlie', 'Bob', 'Alice']\n"
     ]
    }
   ],
   "source": [
    "names = [\"Charlie\", \"Alice\", \"Bob\"]\n",
    "names.sort()\n",
    "print(\"Sorted:\", names)\n",
    "\n",
    "names.reverse()\n",
    "print(\"Reversed:\", names)"
   ]
  },
  {
   "cell_type": "markdown",
   "id": "5ac7cf73",
   "metadata": {},
   "source": [
    "## 7. List Comprehensions"
   ]
  },
  {
   "cell_type": "code",
   "execution_count": 7,
   "id": "8e9a37eb",
   "metadata": {},
   "outputs": [
    {
     "name": "stdout",
     "output_type": "stream",
     "text": [
      "Squares: [0, 1, 4, 9, 16, 25]\n",
      "Even numbers: [0, 2, 4, 6, 8]\n"
     ]
    }
   ],
   "source": [
    "squares = [x ** 2 for x in range(6)]\n",
    "evens = [x for x in range(10) if x % 2 == 0]\n",
    "print(\"Squares:\", squares)\n",
    "print(\"Even numbers:\", evens)"
   ]
  }
 ],
 "metadata": {
  "kernelspec": {
   "display_name": "algos",
   "language": "python",
   "name": "python3"
  },
  "language_info": {
   "codemirror_mode": {
    "name": "ipython",
    "version": 3
   },
   "file_extension": ".py",
   "mimetype": "text/x-python",
   "name": "python",
   "nbconvert_exporter": "python",
   "pygments_lexer": "ipython3",
   "version": "3.13.1"
  }
 },
 "nbformat": 4,
 "nbformat_minor": 5
}
