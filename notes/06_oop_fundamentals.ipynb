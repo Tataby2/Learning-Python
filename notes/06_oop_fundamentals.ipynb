{
 "cells": [
  {
   "cell_type": "markdown",
   "id": "50119643",
   "metadata": {},
   "source": [
    "# Object-Oriented Programming (OOP) in Python\n",
    "\n",
    "This notebook introduces the four essential OOP concepts: class creation, object instantiation, inheritance, and the difference between method overloading and overriding."
   ]
  },
  {
   "cell_type": "markdown",
   "id": "8b69df77",
   "metadata": {},
   "source": [
    "## 1. Classes\n",
    "A class defines a blueprint for objects."
   ]
  },
  {
   "cell_type": "code",
   "execution_count": 1,
   "id": "c3969dc7",
   "metadata": {},
   "outputs": [],
   "source": [
    "class Dog:\n",
    "    def __init__(self, name, breed):\n",
    "        self.name = name\n",
    "        self.breed = breed\n",
    "\n",
    "    def bark(self):\n",
    "        print(f\"{self.name} says woof!\")\n",
    "\n",
    "# Class defined but no objects created yet"
   ]
  },
  {
   "cell_type": "markdown",
   "id": "314ff1db",
   "metadata": {},
   "source": [
    "## 2. Object Instantiation\n",
    "You can create instances (objects) from a class."
   ]
  },
  {
   "cell_type": "code",
   "execution_count": 2,
   "id": "42cef045",
   "metadata": {},
   "outputs": [
    {
     "name": "stdout",
     "output_type": "stream",
     "text": [
      "Dog's name: Buddy\n",
      "Dog's breed: Golden Retriever\n",
      "Buddy says woof!\n"
     ]
    }
   ],
   "source": [
    "my_dog = Dog(\"Buddy\", \"Golden Retriever\")\n",
    "print(\"Dog's name:\", my_dog.name)\n",
    "print(\"Dog's breed:\", my_dog.breed)\n",
    "my_dog.bark()"
   ]
  },
  {
   "cell_type": "markdown",
   "id": "49c88b60",
   "metadata": {},
   "source": [
    "## 3. Inheritance\n",
    "A class can inherit attributes and methods from another class."
   ]
  },
  {
   "cell_type": "code",
   "execution_count": 3,
   "id": "63c4914d",
   "metadata": {},
   "outputs": [
    {
     "name": "stdout",
     "output_type": "stream",
     "text": [
      "Whiskers says meow!\n"
     ]
    }
   ],
   "source": [
    "class Animal:\n",
    "    def __init__(self, name):\n",
    "        self.name = name\n",
    "\n",
    "    def speak(self):\n",
    "        print(f\"{self.name} makes a sound.\")\n",
    "\n",
    "class Cat(Animal):\n",
    "    def speak(self):\n",
    "        print(f\"{self.name} says meow!\")\n",
    "\n",
    "whiskers = Cat(\"Whiskers\")\n",
    "whiskers.speak()  # Overridden method"
   ]
  },
  {
   "cell_type": "markdown",
   "id": "87d11d3d",
   "metadata": {},
   "source": [
    "## 4. Overloading vs Overriding\n",
    "\n",
    "**Overloading** is mimicked with default arguments. **Overriding** happens when a subclass redefines a method from the parent class.\n",
    "\n",
    "True overloading, where **one class has two methods with the same name but differing parameters**, is **NOT** supported.\n",
    "\n",
    "\n",
    "### Why doesn’t Python support traditional method overloading?\n",
    "\n",
    "Because Python is dynamically typed, it does not enforce strict type checking at compile time. That means:\n",
    "\n",
    "You can’t have multiple methods with the same name but different parameter types or counts, like in Java or C++.\n",
    "\n",
    "At runtime, Python must resolve the method name to a single callable object — and if two or more exist with the same name, only the last one defined survives."
   ]
  },
  {
   "cell_type": "code",
   "execution_count": null,
   "id": "342545bd",
   "metadata": {},
   "outputs": [
    {
     "name": "stdout",
     "output_type": "stream",
     "text": [
      "Good morning, Alice\n"
     ]
    },
    {
     "ename": "TypeError",
     "evalue": "Demo.greet() missing 1 required positional argument: 'time_of_day'",
     "output_type": "error",
     "traceback": [
      "\u001b[1;31m---------------------------------------------------------------------------\u001b[0m",
      "\u001b[1;31mTypeError\u001b[0m                                 Traceback (most recent call last)",
      "Cell \u001b[1;32mIn[4], line 12\u001b[0m\n\u001b[0;32m     10\u001b[0m \u001b[38;5;66;03m# Only the second version of greet exists!\u001b[39;00m\n\u001b[0;32m     11\u001b[0m Demo()\u001b[38;5;241m.\u001b[39mgreet(\u001b[38;5;124m\"\u001b[39m\u001b[38;5;124mAlice\u001b[39m\u001b[38;5;124m\"\u001b[39m, \u001b[38;5;124m\"\u001b[39m\u001b[38;5;124mmorning\u001b[39m\u001b[38;5;124m\"\u001b[39m)  \u001b[38;5;66;03m# Works (since the only existing match is the second one)\u001b[39;00m\n\u001b[1;32m---> 12\u001b[0m \u001b[43mDemo\u001b[49m\u001b[43m(\u001b[49m\u001b[43m)\u001b[49m\u001b[38;5;241;43m.\u001b[39;49m\u001b[43mgreet\u001b[49m\u001b[43m(\u001b[49m\u001b[38;5;124;43m\"\u001b[39;49m\u001b[38;5;124;43mAlice\u001b[39;49m\u001b[38;5;124;43m\"\u001b[39;49m\u001b[43m)\u001b[49m             \u001b[38;5;66;03m# ❌ TypeError since the original greet() is erased by the existence of the second one.\u001b[39;00m\n",
      "\u001b[1;31mTypeError\u001b[0m: Demo.greet() missing 1 required positional argument: 'time_of_day'"
     ]
    }
   ],
   "source": [
    "# Attempting tradition method overloading\n",
    "\n",
    "class Demo:\n",
    "    def greet(self, name):\n",
    "        print(f\"Hello, {name}\")\n",
    "\n",
    "    def greet(self, name, time_of_day):  # This *overwrites* the first definition\n",
    "        print(f\"Good {time_of_day}, {name}\")\n",
    "\n",
    "# Only the second version of greet exists!\n",
    "Demo().greet(\"Alice\", \"morning\")  # Works (since the only existing match is the second one)\n",
    "# Demo().greet(\"Alice\")             # ❌ TypeError since the original greet() is erased by the existence of the second one.\n"
   ]
  },
  {
   "cell_type": "code",
   "execution_count": null,
   "id": "f88b7d8f",
   "metadata": {},
   "outputs": [],
   "source": [
    "# Overloading via default parameters\n",
    "class Math:\n",
    "    def add(self, a, b=0, c=0):\n",
    "        return a + b + c\n",
    "\n",
    "math = Math()\n",
    "print(\"Add two:\", math.add(1, 2))\n",
    "print(\"Add three:\", math.add(1, 2, 3))\n",
    "\n",
    "# Overriding via variable length arguments\n",
    "class MathTwo:\n",
    "    def add(self, *args):\n",
    "        return sum(args)\n",
    "\n",
    "math = MathTwo()\n",
    "print(\"Add two:\", math.add(1, 2))\n",
    "print(\"Add three:\", math.add(1, 2, 3))\n",
    "\n",
    "# There are a few other ways to overload, but\n",
    "# these are the most common."
   ]
  }
 ],
 "metadata": {
  "kernelspec": {
   "display_name": "algos",
   "language": "python",
   "name": "python3"
  },
  "language_info": {
   "codemirror_mode": {
    "name": "ipython",
    "version": 3
   },
   "file_extension": ".py",
   "mimetype": "text/x-python",
   "name": "python",
   "nbconvert_exporter": "python",
   "pygments_lexer": "ipython3",
   "version": "3.13.1"
  }
 },
 "nbformat": 4,
 "nbformat_minor": 5
}
