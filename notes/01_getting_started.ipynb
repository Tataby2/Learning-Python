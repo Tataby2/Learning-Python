{
 "cells": [
  {
   "cell_type": "markdown",
   "id": "d1372cdf",
   "metadata": {},
   "source": [
    "# What is Python? 🐍\n",
    "\n",
    "Python is an interpreted coding language that has several features that make it \n",
    "more appealing for most programming applications!\n",
    "\n",
    "Python syntax tends to be much shorter and cleaner than the syntax of languages\n",
    "like C# or Java. There are several reasons for this:\n",
    "\n",
    "Python’s syntax is shorter and cleaner because it prioritizes readability and minimalism—a core principle called “Zen of Python.”\n",
    "\n",
    "- For example, it uses **indentation (not braces) to define code blocks**, reducing visual clutter. \n",
    "\n",
    "- Its design emphasizes **convention over configuration**, allowing developers to focus on solving problems rather than syntax rules. \n",
    "\n",
    "- Additionally, Python’s **dynamic typing and extensive standard library** (e.g., for data science, web dev, automation) make it versatile. \n",
    "\n",
    "- It also **supports multiple paradigms—procedural, object-oriented, functional**—which lets you choose the style that fits your project. \n",
    "\n",
    "This flexibility, combined with a welcoming community, makes Python accessible to beginners while remaining powerful for advanced users. 🌟\n",
    "\n",
    "Python sometimes gets a bad wrap for being overly simplistic, especially from developers more accustomed to more stringent coding conventions. This is fair criticism especially if your goal is to enforce syntactical rules for the purposes of transparency, intricate precision, or uniformity during developement.\n",
    "\n",
    "**However, in exchange for sacraficing this stringent ruleset, especially typing conventions, Python is a language which excels for the purposes of prototyping or analysis of external data (similar to scripting languages such as bash or awk)**\n",
    "\n",
    "- Python is **not** suited for applications that require very fast or instanteous runtimes such as hardware drivers, physics related tasks, or low latency / high performance gaming.\n",
    "\n",
    "- In spite of being *interpreted*, Python's interpretation layer is constantly being optimized particularly for algorithmic / AI applications which have increased it's feasibility for several applications.\n",
    "\n",
    "## Interpretation vs Compilation (nerd shit)\n",
    "\n",
    "Python’s interpretation model means code is executed line-by-line by an interpreter (like CPython), which differs from compiled languages like C++ or Rust, where code is translated into machine language upfront. \n",
    "\n",
    "<img src=\"./media/compilation_vs_interpretation.png\" width=500>\n",
    "\n",
    "- While this can introduce overhead, Python’s JIT (Just in Time) compilers (e.g., PyPy, CPython 3.10+) and optimized libraries (NumPy, TensorFlow) mitigate performance gaps for algorithmic tasks.\n",
    "\n",
    "---\n",
    "\n",
    "### An Aside: Python vs Java ☕\n",
    "\n",
    "Comparing Python’s interpretation model to Java’s bytecode-based approach is partially fair but requires nuance. Both are interpreted, but their execution pipelines differ fundamentally:\n",
    "\n",
    "Java compiles source code into bytecode (a low-level, platform-independent format), which runs on the JVM (Java Virtual Machine). The JVM then interprets or JIT-compiles bytecode at runtime, balancing portability and performance. This model enforces strict typing and structure, prioritizing safety and consistency.\n",
    "\n",
    "Python, by contrast, uses a direct interpreter (e.g., CPython) that executes code line-by-line without explicit compilation. While Python’s interpreter can leverage JIT (like PyPy or CPython 3.10+), its design emphasizes dynamic typing and flexibility, prioritizing rapid development over strict enforcement.\n",
    "\n",
    "The similarity lies in their shared \"interpreted\" nature, but Java’s model is more structured and optimized for performance, while Python sacrifices some rigidity for ease of use and adaptability. The choice between them often hinges on project goals: Java for systems where safety and speed matter, Python for prototyping or dynamic workflows. \n",
    "\n",
    "---"
   ]
  },
  {
   "cell_type": "markdown",
   "id": "c9264db1",
   "metadata": {},
   "source": [
    "## Hello World in 🐍"
   ]
  },
  {
   "cell_type": "code",
   "execution_count": 1,
   "id": "68609381",
   "metadata": {},
   "outputs": [
    {
     "name": "stdout",
     "output_type": "stream",
     "text": [
      "hello world!\n"
     ]
    }
   ],
   "source": [
    "print(\"hello world!\")"
   ]
  },
  {
   "cell_type": "markdown",
   "id": "23460457",
   "metadata": {},
   "source": [
    "## So Why Python?\n",
    "\n",
    "After elucidating on why developers love Python so much, you would be right to ask why would someone want to make an app using Python if it sacrafices so much for ease of coding development.\n",
    "\n",
    "- However this is also true of languages like Javascript, Typescript, and Go.\n",
    "\n",
    "- Many companies use Python not only for testing but also for their UI, backend, and middleware solutions.\n",
    "\n",
    "And additionally, if you want to pursue data science / analysis or ML subfields Python is frankly a language you must learn.\n",
    "\n",
    "1. **Rapid Prototyping**: Python’s simplicity lets you iterate faster—ideal for startups, AI/ML, or exploratory projects where time-to-idea matters more than optimization.\n",
    "\n",
    "2. **Versatility**: From web dev (Django) to data science (Pandas), automation, and scripting, Python’s ecosystem reduces the need to switch languages.\n",
    "\n",
    "3. **Community & Libraries**: A vast open-source community means you’ll find tools for almost any task—no need to reinvent the wheel.\n",
    "\n",
    "4. **Accessibility**: Its gentle learning curve makes it a gateway to programming, allowing you to build real projects early and grow into more complex languages later.\n",
    "\n",
    "If your goals involve collaboration, experimentation, or cross-domain applications, Python’s trade-offs are strengths. For system-level tasks requiring performance, other languages may be better—but Python’s flexibility is a superpower for creativity and problem-solving."
   ]
  },
  {
   "cell_type": "markdown",
   "id": "65a8528c",
   "metadata": {},
   "source": [
    "## Learning Pathway\n",
    "\n",
    "1. Learn the basics\n",
    "\n",
    "- Basic coding structure syntax (loops, handling exceptions, i/o) ➿\n",
    "\n",
    "- OOP (Classes, abstract classes, encapsulation, those things) ☕\n",
    "\n",
    "- Python libraries and basic tools 🐍\n",
    "\n",
    "- Algorithm design and analysis ⌛\n",
    "\n",
    "2. Choose your own adventure\n",
    "\n",
    "- Basics of ML 😖\n",
    "\n",
    "- Data analysis (using python to read and visualize data) 🔢\n",
    "\n",
    "- Web development (Flask / Django)\n",
    "\n",
    "- Fullstack development (all in python)"
   ]
  }
 ],
 "metadata": {
  "kernelspec": {
   "display_name": "algos",
   "language": "python",
   "name": "python3"
  },
  "language_info": {
   "codemirror_mode": {
    "name": "ipython",
    "version": 3
   },
   "file_extension": ".py",
   "mimetype": "text/x-python",
   "name": "python",
   "nbconvert_exporter": "python",
   "pygments_lexer": "ipython3",
   "version": "3.13.1"
  }
 },
 "nbformat": 4,
 "nbformat_minor": 5
}
